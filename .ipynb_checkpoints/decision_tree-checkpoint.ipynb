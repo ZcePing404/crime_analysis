{
 "cells": [
  {
   "cell_type": "code",
   "execution_count": 17,
   "id": "b1bf6482-90cb-4698-ba08-5b672ab50e4c",
   "metadata": {
    "scrolled": true
   },
   "outputs": [],
   "source": [
    "import learning_curve\n",
    "import train_model\n",
    "from sklearn.tree import DecisionTreeRegressor"
   ]
  },
  {
   "cell_type": "code",
   "execution_count": 1,
   "id": "330ee583-6f1b-498e-81e9-329627a0be7b",
   "metadata": {},
   "outputs": [
    {
     "ename": "NameError",
     "evalue": "name 'train_model' is not defined",
     "output_type": "error",
     "traceback": [
      "\u001b[1;31m---------------------------------------------------------------------------\u001b[0m",
      "\u001b[1;31mNameError\u001b[0m                                 Traceback (most recent call last)",
      "Cell \u001b[1;32mIn[1], line 3\u001b[0m\n\u001b[0;32m      1\u001b[0m \u001b[38;5;28;01mif\u001b[39;00m \u001b[38;5;18m__name__\u001b[39m \u001b[38;5;241m==\u001b[39m \u001b[38;5;124m\"\u001b[39m\u001b[38;5;124m__main__\u001b[39m\u001b[38;5;124m\"\u001b[39m:\n\u001b[0;32m      2\u001b[0m     \u001b[38;5;66;03m# Load X and y from dataset\u001b[39;00m\n\u001b[1;32m----> 3\u001b[0m     X, Y \u001b[38;5;241m=\u001b[39m train_model\u001b[38;5;241m.\u001b[39mload_dataset()\n\u001b[0;32m      5\u001b[0m     \u001b[38;5;66;03m# Define the parameter grid for tuning a Decision Tree\u001b[39;00m\n\u001b[0;32m      6\u001b[0m     \u001b[38;5;66;03m# param_grid = {\u001b[39;00m\n\u001b[0;32m      7\u001b[0m     \u001b[38;5;66;03m#     'criterion': ['squared_error', 'friedman_mse', 'absolute_error', 'poisson'],  \u001b[39;00m\n\u001b[1;32m   (...)\u001b[0m\n\u001b[0;32m     13\u001b[0m \n\u001b[0;32m     14\u001b[0m         \u001b[38;5;66;03m# Define the parameter grid for tuning\u001b[39;00m\n\u001b[0;32m     15\u001b[0m     param_grid \u001b[38;5;241m=\u001b[39m {\n\u001b[0;32m     16\u001b[0m         \u001b[38;5;124m'\u001b[39m\u001b[38;5;124mcriterion\u001b[39m\u001b[38;5;124m'\u001b[39m: [\u001b[38;5;124m'\u001b[39m\u001b[38;5;124msquared_error\u001b[39m\u001b[38;5;124m'\u001b[39m, \u001b[38;5;124m'\u001b[39m\u001b[38;5;124mfriedman_mse\u001b[39m\u001b[38;5;124m'\u001b[39m, \u001b[38;5;124m'\u001b[39m\u001b[38;5;124mabsolute_error\u001b[39m\u001b[38;5;124m'\u001b[39m],  \n\u001b[0;32m     17\u001b[0m         \u001b[38;5;124m'\u001b[39m\u001b[38;5;124mmax_depth\u001b[39m\u001b[38;5;124m'\u001b[39m: [\u001b[38;5;28;01mNone\u001b[39;00m, \u001b[38;5;241m5\u001b[39m, \u001b[38;5;241m10\u001b[39m, \u001b[38;5;241m20\u001b[39m],\n\u001b[1;32m   (...)\u001b[0m\n\u001b[0;32m     20\u001b[0m         \u001b[38;5;124m'\u001b[39m\u001b[38;5;124mmax_features\u001b[39m\u001b[38;5;124m'\u001b[39m: [\u001b[38;5;28;01mNone\u001b[39;00m, \u001b[38;5;124m'\u001b[39m\u001b[38;5;124msqrt\u001b[39m\u001b[38;5;124m'\u001b[39m, \u001b[38;5;124m'\u001b[39m\u001b[38;5;124mlog2\u001b[39m\u001b[38;5;124m'\u001b[39m]\n\u001b[0;32m     21\u001b[0m     }\n",
      "\u001b[1;31mNameError\u001b[0m: name 'train_model' is not defined"
     ]
    }
   ],
   "source": [
    "if __name__ == \"__main__\":\n",
    "    # Load X and y from dataset\n",
    "    X, Y = train_model.load_dataset()\n",
    "\n",
    "    # Define the parameter grid for tuning a Decision Tree\n",
    "    # param_grid = {\n",
    "    #     'criterion': ['squared_error', 'friedman_mse', 'absolute_error', 'poisson'],  \n",
    "    #     'max_depth': [None, 5, 10, 20],\n",
    "    #     'min_samples_split': [2, 5, 10],\n",
    "    #     'min_samples_leaf': [1, 2, 4],\n",
    "    #     'max_features':sqrt [None, 'sqrt', 'log2']\n",
    "    # }\n",
    "\n",
    "        # Define the parameter grid for tuning\n",
    "    param_grid = {\n",
    "        'criterion': ['squared_error', 'friedman_mse', 'absolute_error'],  \n",
    "        'max_depth': [None, 5, 10, 20],\n",
    "        'min_samples_split': [8, 9, 10],\n",
    "        'min_samples_leaf': [2, 3, 4],\n",
    "        'max_features': [None, 'sqrt', 'log2']\n",
    "    }\n",
    "\n",
    "    # Evaluate model\n",
    "    selected_model = train_model.model_evaluation(DecisionTreeRegressor(), param_grid, X, Y)\n",
    "\n",
    "    # Plot the learning curve\n",
    "    learning_curve.plot_learning_curve(selected_model.best_estimator_, X, Y, 'Decision_Tree_Test')\n",
    "\n",
    "    # Save the selected model\n",
    "    train_model.save_model(selected_model.best_estimator_, \"DecisionTree_regression\")"
   ]
  },
  {
   "cell_type": "code",
   "execution_count": null,
   "id": "a4f4ddfd-e97c-479a-9db5-dacf513ec209",
   "metadata": {},
   "outputs": [],
   "source": []
  }
 ],
 "metadata": {
  "kernelspec": {
   "display_name": "Python 3 (ipykernel)",
   "language": "python",
   "name": "python3"
  },
  "language_info": {
   "codemirror_mode": {
    "name": "ipython",
    "version": 3
   },
   "file_extension": ".py",
   "mimetype": "text/x-python",
   "name": "python",
   "nbconvert_exporter": "python",
   "pygments_lexer": "ipython3",
   "version": "3.12.7"
  }
 },
 "nbformat": 4,
 "nbformat_minor": 5
}
